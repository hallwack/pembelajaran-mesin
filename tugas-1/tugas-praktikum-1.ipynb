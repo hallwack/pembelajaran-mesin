{
 "cells": [
  {
   "cell_type": "code",
   "execution_count": 7,
   "metadata": {},
   "outputs": [
    {
     "name": "stdout",
     "output_type": "stream",
     "text": [
      "ref                                                           title                                                size  lastUpdated          downloadCount  voteCount  usabilityRating  \n",
      "------------------------------------------------------------  --------------------------------------------------  -----  -------------------  -------------  ---------  ---------------  \n",
      "leonardopena/top50spotify2019                                 Top 50 Spotify Songs - 2019                           2KB  2019-08-08 16:39:46          30830        866  1.0              \n",
      "nadintamer/top-spotify-tracks-of-2018                         Top Spotify Tracks of 2018                            7KB  2019-02-07 06:04:33          12223        260  0.9411765        \n",
      "nadintamer/top-tracks-of-2017                                 Top Spotify Tracks of 2017                            7KB  2017-12-20 06:04:48          10471        189  0.88235295       \n",
      "leonardopena/top-spotify-songs-from-20102019-by-year          Top Spotify songs from 2010-2019 - BY YEAR           19KB  2019-12-26 15:22:06          13871        317  1.0              \n",
      "sashankpillai/spotify-top-200-charts-20202021                 Spotify Top 200 Charts (2020-2021)                  165KB  2021-08-16 05:38:21           5407        102  0.8235294        \n",
      "iamsumat/spotify-top-2000s-mega-dataset                       Spotify - All Time Top 2000s Mega Dataset            65KB  2020-02-04 10:05:27           3711         82  1.0              \n",
      "pavan9065/top-100-most-streamed-songs-on-spotify              Top 100 Most Streamed Songs on Spotify                4KB  2021-10-01 04:39:44           2253         65  1.0              \n",
      "ritesh2000/spotify-top-50-most-streamed-songs                 Spotify Top 50+ Most Streamed Songs                   2KB  2020-08-23 14:37:06            696         29  1.0              \n",
      "leonardopena/top-50-spotify-songs-by-each-country             Top 50 Spotify songs BY EACH COUNTRY                 25KB  2019-12-26 15:31:33           2617         63  1.0              \n",
      "equinxx/spotify-top-50-songs-in-2021                          Spotify top 50 songs in 2021                          4KB  2022-03-09 08:46:59            484         25  1.0              \n",
      "atillacolak/top-50-spotify-tracks-2020                        Top 50 Spotify Tracks- 2020                           4KB  2021-01-31 07:15:21           1117         22  0.9411765        \n",
      "hkapoor/spotify-top-songs-by-country-may-2020                 Spotify - Top Songs by Country Charts                52KB  2020-06-05 15:56:09           1217         28  1.0              \n",
      "ivannatarov/spotify-daily-top-200-songs-with-genres-20172021  Spotify daily top 200 songs with genres 2017-2021     4MB  2021-08-24 12:45:23            956         35  1.0              \n",
      "jackharding/spotify-artist-metadata-top-10k                   Spotify Artist Metadata Top 10k                     176KB  2020-09-10 10:21:26            274          8  0.9411765        \n",
      "zacharykauz/spotify-play-count-for-billboards-1990-top-100    Spotify Play Count for Billboard's 1990 Top 100       3KB  2022-01-16 16:45:08            374         21  0.9411765        \n",
      "jcacperalta/spotify-daily-top-200-ph                          Spotify Daily Top 200 Tracks in the Philippines       4MB  2022-02-06 18:33:30            508         21  0.9411765        \n",
      "nadintamer/top-spotify-tracks-of-2019                         Top Spotify Tracks of 2019                            4KB  2020-11-09 05:20:12            176          8  0.8235294        \n",
      "sootersaalu/spotify-south-africa-top-200-weekly-streams       Spotify South Africa Top 200 Weekly Streams         200KB  2020-11-02 15:37:43             94          6  1.0              \n",
      "dilaraahan/top-50-turkish-songs-on-spotify-2020               Top 50 Turkish Songs on Spotify 2020                  2KB  2020-12-31 13:24:54             12         11  0.47058824       \n",
      "bartomiejczyewski/spotify-top-200-weekly-global-20172021      Spotify Top 200 Charts Global (2017-2021)+API data    3MB  2021-04-20 19:16:50            450         10  0.9411765        \n"
     ]
    }
   ],
   "source": [
    "!kaggle datasets list -s '['spotify-top']'"
   ]
  },
  {
   "cell_type": "code",
   "execution_count": 8,
   "metadata": {},
   "outputs": [
    {
     "name": "stdout",
     "output_type": "stream",
     "text": [
      "Downloading spotify-top-50-songs-in-2021.zip to /home/hallwack/Documents/College/machine-learning/project/tugas-1\n",
      "  0%|                                               | 0.00/3.94k [00:00<?, ?B/s]\n",
      "100%|██████████████████████████████████████| 3.94k/3.94k [00:00<00:00, 3.34MB/s]\n"
     ]
    }
   ],
   "source": [
    "!kaggle datasets download -d equinxx/spotify-top-50-songs-in-2021"
   ]
  },
  {
   "cell_type": "code",
   "execution_count": 1,
   "metadata": {},
   "outputs": [],
   "source": [
    "import pandas as pd\n",
    "import numpy as np"
   ]
  },
  {
   "cell_type": "code",
   "execution_count": 2,
   "metadata": {},
   "outputs": [],
   "source": [
    "path = \"spotify_top50_2021.csv\"\n",
    "df = pd.read_csv(path)"
   ]
  }
 ],
 "metadata": {
  "interpreter": {
   "hash": "916dbcbb3f70747c44a77c7bcd40155683ae19c65e1c03b4aa3499c5328201f1"
  },
  "kernelspec": {
   "display_name": "Python 3.9.7 64-bit",
   "language": "python",
   "name": "python3"
  },
  "language_info": {
   "codemirror_mode": {
    "name": "ipython",
    "version": 3
   },
   "file_extension": ".py",
   "mimetype": "text/x-python",
   "name": "python",
   "nbconvert_exporter": "python",
   "pygments_lexer": "ipython3",
   "version": "3.9.7"
  },
  "orig_nbformat": 4
 },
 "nbformat": 4,
 "nbformat_minor": 2
}
